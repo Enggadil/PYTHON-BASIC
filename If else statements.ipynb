{
 "cells": [
  {
   "cell_type": "code",
   "execution_count": null,
   "metadata": {},
   "outputs": [],
   "source": [
    "a = 50\n",
    "b = 200\n",
    "if b > a:\n",
    "    print(\"b is greater than a\")\n",
    "    "
   ]
  },
  {
   "cell_type": "code",
   "execution_count": null,
   "metadata": {},
   "outputs": [],
   "source": [
    "a = 33\n",
    "b = 200\n",
    "if b > a:\n",
    "    print(\"b is greater than a\") #indentation error\n",
    "    print(\"b is greater than a\")"
   ]
  },
  {
   "cell_type": "code",
   "execution_count": null,
   "metadata": {},
   "outputs": [],
   "source": [
    "\n",
    "def mainmenu(): \n",
    "    print(\"..........................................................\")    \n",
    "    print(\"1. Soup and salad\") \n",
    "    print(\"2. Pasta with meat sauce\") \n",
    "    print(\"3. Chef's special\")    \n",
    "    print(\"4. Quit\") \n",
    "    print(\"..........................................................\")  \n",
    "    while(True):\n",
    "         try:\n",
    "                 selection=int(input(\"Which number would you like to order?   \"))\n",
    "                    if selection==1: \n",
    "                        selection1() \n",
    "                        break\n",
    "                    elif selection==2:\n",
    "                        selection2()\n",
    "                        break\n",
    "                    elif selection==3:\n",
    "                        selection3() \n",
    "                        break\n",
    "                    \n",
    "                    elif selection==4: \n",
    "                        break\n",
    "                    else:\n",
    "                        print(\"Sorry, that is not a valid choice.\") \n",
    "         except valueError:\n",
    "                 print(\"Sorry, that is not a valid choice.\") \n",
    "                 exit()  \n",
    "                        \n",
    "def selection1(): \n",
    "    print(\" You choose Soup and salad\") \n",
    "    anykey=input(\"Enter anything to return to main Menu :  \")  \n",
    "    mainmenu()\n",
    "def selection2(): \n",
    "    print(\"You choose Pasta with meat sauce coming right up\")   \n",
    "    anykey=input(\"Enter anything to return to main Menu :  \") \n",
    "    mainmenu() \n",
    "def selection3(): \n",
    "    print(\"You choose Chef's special\") \n",
    "    anykey=input(\"Enter anything to return to main Menu :  \")    \n",
    "    mainmenu() \n",
    "print(\"..........................................................\") \n",
    "mainmenu() \n",
    "print(\"..........................................................\")"
   ]
  },
  {
   "cell_type": "code",
   "execution_count": null,
   "metadata": {},
   "outputs": [],
   "source": [
    "a = 200\n",
    "b = 33\n",
    "if b > a:\n",
    "    print(\"b is greater than a\")\n",
    "else:\n",
    "    print(\"a is greater than b\")"
   ]
  },
  {
   "cell_type": "code",
   "execution_count": null,
   "metadata": {},
   "outputs": [],
   "source": [
    "if a > b: print(\"a is greater than b\")# single line"
   ]
  },
  {
   "cell_type": "code",
   "execution_count": null,
   "metadata": {},
   "outputs": [],
   "source": [
    "a = 2\n",
    "b = 330\n",
    "print(\"A\") if a > b else print(\"B\")#single line if else"
   ]
  },
  {
   "cell_type": "code",
   "execution_count": null,
   "metadata": {},
   "outputs": [],
   "source": [
    "a = 200\n",
    "b = 33\n",
    "c = 500\n",
    "if a > b and  c > a:\n",
    "    print(\"Both conditions are True\")"
   ]
  },
  {
   "cell_type": "code",
   "execution_count": null,
   "metadata": {},
   "outputs": [],
   "source": [
    "a =int(input(\"please enter your First Number:\")) \n",
    "b = int(input(\"please enter your Second Number:\"))\n",
    "if b > a:\n",
    "    print(\"b is greater than a\")\n",
    "elif a == b:\n",
    "    print(\"a and b are equal\")\n",
    "else:\n",
    "    print(\"a is greater than b\")"
   ]
  },
  {
   "cell_type": "markdown",
   "metadata": {},
   "source": [
    "# A school has following rules for grading system:\n",
    "a. Below 25 - F\n",
    "b. 25 to 45 - E\n",
    "c. 45 to 50 - D\n",
    "d. 50 to 60 - C\n",
    "e. 60 to 80 - B\n",
    "f. Above 80 - A\n",
    "Ask user to enter marks and print the corresponding grade."
   ]
  },
  {
   "cell_type": "code",
   "execution_count": null,
   "metadata": {},
   "outputs": [],
   "source": [
    "    \n",
    "    \n",
    "\n",
    "         \n",
    "           \n",
    "                     \n",
    "    \n",
    "        "
   ]
  },
  {
   "cell_type": "code",
   "execution_count": 7,
   "metadata": {},
   "outputs": [
    {
     "name": "stdout",
     "output_type": "stream",
     "text": [
      "Above ten,\n",
      "and also above 20!\n"
     ]
    }
   ],
   "source": [
    "x = 41\n",
    "if x > 10:\n",
    "    print(\"Above ten,\")\n",
    "    if x > 20:\n",
    "        print(\"and also above 20!\")\n",
    "else:\n",
    "     print(\"but not above 20.\")\n",
    "    "
   ]
  },
  {
   "cell_type": "code",
   "execution_count": null,
   "metadata": {},
   "outputs": [],
   "source": [
    "print (\"Enter marks\")\n",
    "marks =int(input()) \n",
    "if marks<25:\n",
    "    print(\"F\") \n",
    "elif marks>=25 and marks<45:\n",
    "    print (\"E\")\n",
    "elif marks>=45 and marks<50:\n",
    "    print (\"D\")\n",
    "elif marks>=50 and marks<60:\n",
    "    print (\"C\")\n",
    "elif marks>=60 and marks<80:\n",
    "    print (\"B\")\n",
    "else:\n",
    "    print (\"A\")"
   ]
  },
  {
   "cell_type": "markdown",
   "metadata": {},
   "source": [
    "# Take input of age of 3 people by user and determine oldest and youngest among them."
   ]
  },
  {
   "cell_type": "code",
   "execution_count": null,
   "metadata": {},
   "outputs": [],
   "source": [
    "print (\"Enter first age\")\n",
    "first = input()\n",
    "print \"Enter second age\"\n",
    "second = input()\n",
    "print \"third age\"\n",
    "third = input()\n",
    "\n",
    "if first >= second and first >= third:\n",
    "  print \"Oldest is\",first\n",
    "elif second >= first and second >= third:\n",
    "  print \"Oldest is\",second\n",
    "elif third >= first and third >= second:\n",
    "  print \"Oldest is\",third\n",
    "else:\n",
    "  print \"All are equal\"\t"
   ]
  }
 ],
 "metadata": {
  "kernelspec": {
   "display_name": "Python 3",
   "language": "python",
   "name": "python3"
  }
 },
 "nbformat": 4,
 "nbformat_minor": 4
}
