{
 "cells": [
  {
   "cell_type": "code",
   "execution_count": 16,
   "metadata": {},
   "outputs": [
    {
     "name": "stdout",
     "output_type": "stream",
     "text": [
      "\n",
      "Name= Adil Hussain\n",
      "rollNo=12084\n",
      "dept=Software Engineering\n",
      "sub=AI Lab\n",
      "course=BSSE 5th morning\n",
      "Lab=Lab 2\n",
      "University= NUML ISLAMABAD\n",
      "\n",
      "\n"
     ]
    }
   ],
   "source": [
    "name=\"Adil Hussain\"\n",
    "rollNo=\"12084\"\n",
    "dept=\"Software Engineering\"\n",
    "sub=\"AI Lab\"\n",
    "course=\"BSSE 5th morning\"\n",
    "Lab=\"Lab 2\"\n",
    "university=\"NUML ISLAMABAD\"\n",
    "message= \"\"\"\n",
    "Name= {}\n",
    "rollNo={}\n",
    "dept={}\n",
    "sub={}\n",
    "course={}\n",
    "Lab={}\n",
    "University= {}\n",
    "\n",
    "\"\"\".format(name, rollNo, dept,sub,course,Lab,university)\n",
    "\n",
    "print(message)\n"
   ]
  },
  {
   "cell_type": "markdown",
   "metadata": {},
   "source": [
    "# Task 1"
   ]
  },
  {
   "cell_type": "markdown",
   "metadata": {},
   "source": [
    "## Write a program that first displays a simple cafe menu (see example below), asks the user to enter the\n",
    "number of a choice, and either prints the appropriate action OR prints an error message that their choice\n",
    "was not valid.\n",
    "Example output:\n",
    "1. Soup and salad\n",
    "2. Pasta with meat sauce\n",
    "3. Chef's special\n",
    "Which number would you like to order? 2 One Pasta with meat sauce coming right up!\n",
    "Another example output:\n",
    "1. Soup and salad\n",
    "2. Pasta with meat sauce\n",
    "3. Chef's special\n",
    "Which number would you like to order? 5\n",
    "Sorry, that is not a valid choice."
   ]
  },
  {
   "cell_type": "code",
   "execution_count": null,
   "metadata": {},
   "outputs": [],
   "source": [
    "\n",
    "def mainmenu(): \n",
    "    print(\"..........................................................\")    \n",
    "    print(\"1. Soup and salad\") \n",
    "    print(\"2. Pasta with meat sauce\") \n",
    "    print(\"3. Chef's special\")    \n",
    "    print(\"4. Quit\") \n",
    "    print(\"..........................................................\")  \n",
    "    while(True):\n",
    "         try:\n",
    "                 selection=int(input(\"Which number would you like to order?   \"))\n",
    "                5\n",
    "                if selection==1: \n",
    "                        selection1() \n",
    "                        break\n",
    "                 elif selection==2:\n",
    "                        selection2()\n",
    "                        break\n",
    "                 elif selection==3:\n",
    "                        selection3() \n",
    "                        break\n",
    "                    \n",
    "                 elif selection==4: \n",
    "                        break\n",
    "                 else:\n",
    "                        print(\"Sorry, that is not a valid choice.\") \n",
    "         except valueError:\n",
    "                 print(\"Sorry, that is not a valid choice.\") \n",
    "                 exit()  \n",
    "                        \n",
    "def selection1(): \n",
    "    print(\" You choose Soup and salad\") \n",
    "    anykey=input(\"Enter anything to return to main Menu :  \")  \n",
    "    mainmenu()\n",
    "def selection2(): \n",
    "    print(\"You choose Pasta with meat sauce coming right up\")   \n",
    "    anykey=input(\"Enter anything to return to main Menu :  \") \n",
    "    mainmenu() \n",
    "def selection3(): \n",
    "    print(\"You choose Chef's special\") \n",
    "    anykey=input(\"Enter anything to return to main Menu :  \")    \n",
    "    mainmenu() \n",
    "print(\"..........................................................\") \n",
    "mainmenu() \n",
    "print(\"..........................................................\") \n",
    " \n",
    " "
   ]
  },
  {
   "cell_type": "markdown",
   "metadata": {},
   "source": [
    "# Task 2"
   ]
  },
  {
   "cell_type": "markdown",
   "metadata": {},
   "source": [
    "## Once upon a time in Apple land, John had three apples, Mary had five apples, and Adam had six apples.\n",
    "They were all very happy and lived for a long time. End of story.\n",
    "Your task is to:\n",
    "• create the variables: john, mary, and adam;\n",
    "• assign values to the variables. The values must be equal to the numbers of fruit possessed by John,\n",
    "Mary, and Adam respectively;\n",
    "• having stored the numbers in the variables, print the variables on one line, and separate each of them\n",
    "with a comma;\n",
    "• now create a new variable named totalApples equal to addition of the three former variables.\n",
    "• print the value stored in totalApples to the console\n",
    "• Check if the totalApples is greater, smaller or equal to 10"
   ]
  },
  {
   "cell_type": "code",
   "execution_count": 21,
   "metadata": {},
   "outputs": [
    {
     "name": "stdout",
     "output_type": "stream",
     "text": [
      "The totalApples is : 14\n",
      "***************************\n",
      "Now Check if the totalApples is greater, smaller or equal to 10 \n",
      "***************************\n",
      "TotalApples is greater to 10\n"
     ]
    }
   ],
   "source": [
    "Appleland= {'john': 3, 'mary': 5, 'adam': 6}\n",
    "value=Appleland.values()\n",
    "totalApples=sum(value)\n",
    "print(\"The totalApples is :\",totalApples)\n",
    "print(\"***************************\")\n",
    "print(\"Now Check if the totalApples is greater, smaller or equal to 10 \")\n",
    "print(\"***************************\")\n",
    "if totalApples==10:\n",
    "    print(\"TotalApples is Equal to 10\")\n",
    "elif totalApples>10:\n",
    "    print(\"TotalApples is greater to 10\")\n",
    "elif totalApples<10:\n",
    "    print(\"TotalApples is Smaller to 10\")\n",
    "else:\n",
    "    print(\"not Applicable\")\n",
    "   "
   ]
  },
  {
   "cell_type": "code",
   "execution_count": null,
   "metadata": {},
   "outputs": [],
   "source": []
  }
 ],
 "metadata": {
  "kernelspec": {
   "display_name": "Python 3",
   "language": "python",
   "name": "python3"
  },
  "language_info": {
   "codemirror_mode": {
    "name": "ipython",
    "version": 3
   },
   "file_extension": ".py",
   "mimetype": "text/x-python",
   "name": "python",
   "nbconvert_exporter": "python",
   "pygments_lexer": "ipython3",
   "version": "3.8.5"
  }
 },
 "nbformat": 4,
 "nbformat_minor": 4
}
