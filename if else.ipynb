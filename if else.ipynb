{
 "cells": [
  {
   "cell_type": "code",
   "execution_count": null,
   "metadata": {},
   "outputs": [],
   "source": [
    "a = 50\n",
    "b = 200\n",
    "if b > a:\n",
    "  print(\"b is greater than a\")\n",
    "    "
   ]
  },
  {
   "cell_type": "code",
   "execution_count": null,
   "metadata": {},
   "outputs": [],
   "source": [
    "a = 33\n",
    "b = 200\n",
    "if b > a:\n",
    "    print(\"b is greater than a\") #indentation error\n",
    "    print(\"b is greater than a\")"
   ]
  },
  {
   "cell_type": "code",
   "execution_count": 6,
   "metadata": {},
   "outputs": [
    {
     "ename": "IndentationError",
     "evalue": "unexpected indent (<ipython-input-6-bc27c3e99316>, line 11)",
     "output_type": "error",
     "traceback": [
      "\u001b[1;36m  File \u001b[1;32m\"<ipython-input-6-bc27c3e99316>\"\u001b[1;36m, line \u001b[1;32m11\u001b[0m\n\u001b[1;33m    if selection==1:\u001b[0m\n\u001b[1;37m    ^\u001b[0m\n\u001b[1;31mIndentationError\u001b[0m\u001b[1;31m:\u001b[0m unexpected indent\n"
     ]
    }
   ],
   "source": [
    "\n",
    "def mainmenu(): \n",
    "    print(\"..........................................................\")    \n",
    "    print(\"1. Soup and salad\") \n",
    "    print(\"2. Pasta with meat sauce\") \n",
    "    print(\"3. Chef's special\")    \n",
    "    print(\"4. Quit\") \n",
    "    print(\"..........................................................\")  \n",
    "    while(True):\n",
    "         try:\n",
    "                 selection=int(input(\"Which number would you like to order?   \"))\n",
    "                    if selection==1: \n",
    "                        selection1() \n",
    "                        break\n",
    "                    elif selection==2:\n",
    "                        selection2()\n",
    "                        break\n",
    "                    elif selection==3:\n",
    "                        selection3() \n",
    "                        break\n",
    "                    \n",
    "                    elif selection==4: \n",
    "                        break\n",
    "                    else:\n",
    "                        print(\"Sorry, that is not a valid choice.\") \n",
    "         except valueError:\n",
    "                 print(\"Sorry, that is not a valid choice.\") \n",
    "                 exit()  \n",
    "                        \n",
    "def selection1(): \n",
    "    print(\" You choose Soup and salad\") \n",
    "    anykey=input(\"Enter anything to return to main Menu :  \")  \n",
    "    mainmenu()\n",
    "def selection2(): \n",
    "    print(\"You choose Pasta with meat sauce coming right up\")   \n",
    "    anykey=input(\"Enter anything to return to main Menu :  \") \n",
    "    mainmenu() \n",
    "def selection3(): \n",
    "    print(\"You choose Chef's special\") \n",
    "    anykey=input(\"Enter anything to return to main Menu :  \")    \n",
    "    mainmenu() \n",
    "print(\"..........................................................\") \n",
    "mainmenu() \n",
    "print(\"..........................................................\")"
   ]
  },
  {
   "cell_type": "code",
   "execution_count": 2,
   "metadata": {},
   "outputs": [
    {
     "name": "stdout",
     "output_type": "stream",
     "text": [
      "a is greater than b\n"
     ]
    }
   ],
   "source": [
    "a = 200\n",
    "b = 33\n",
    "if b > a:\n",
    "    print(\"b is greater than a\")\n",
    "else:\n",
    "    print(\"a is greater than b\")"
   ]
  },
  {
   "cell_type": "code",
   "execution_count": 3,
   "metadata": {},
   "outputs": [
    {
     "name": "stdout",
     "output_type": "stream",
     "text": [
      "a is greater than b\n"
     ]
    }
   ],
   "source": [
    "if a > b: print(\"a is greater than b\")# single line"
   ]
  },
  {
   "cell_type": "code",
   "execution_count": 4,
   "metadata": {},
   "outputs": [
    {
     "name": "stdout",
     "output_type": "stream",
     "text": [
      "B\n"
     ]
    }
   ],
   "source": [
    "a = 2\n",
    "b = 330\n",
    "print(\"A\") if a > b else print(\"B\")#single line if else"
   ]
  },
  {
   "cell_type": "code",
   "execution_count": 7,
   "metadata": {},
   "outputs": [
    {
     "name": "stdout",
     "output_type": "stream",
     "text": [
      "Both conditions are True\n"
     ]
    }
   ],
   "source": [
    "a = 200\n",
    "b = 33\n",
    "c = 500\n",
    "if a > b and  c > a:\n",
    "    print(\"Both conditions are True\")"
   ]
  },
  {
   "cell_type": "code",
   "execution_count": null,
   "metadata": {},
   "outputs": [],
   "source": []
  }
 ],
 "metadata": {
  "kernelspec": {
   "display_name": "Python 3",
   "language": "python",
   "name": "python3"
  },
  "language_info": {
   "codemirror_mode": {
    "name": "ipython",
    "version": 3
   },
   "file_extension": ".py",
   "mimetype": "text/x-python",
   "name": "python",
   "nbconvert_exporter": "python",
   "pygments_lexer": "ipython3",
   "version": "3.8.5"
  }
 },
 "nbformat": 4,
 "nbformat_minor": 4
}
